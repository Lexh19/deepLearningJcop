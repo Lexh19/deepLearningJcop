{
 "cells": [
  {
   "cell_type": "code",
   "execution_count": 21,
   "metadata": {},
   "outputs": [],
   "source": [
    "class Manusia:\n",
    "    def __init__(self, warna_rambut, tinggi=160, berat=60):\n",
    "        self.warna_rambut = warna_rambut\n",
    "        self.tinggi = tinggi\n",
    "        self.berat = berat\n",
    "    \n",
    "    def cat_rambutnya(self, warna):\n",
    "        self.warna_rambut = warna\n",
    "        print(f'Rambutnya jadi warna {warna}')\n",
    "\n",
    "    def BMI(self):\n",
    "        return self.berat / self.tinggi ** 2\n",
    "        "
   ]
  },
  {
   "cell_type": "code",
   "execution_count": 22,
   "metadata": {},
   "outputs": [],
   "source": [
    "akmal = Manusia('hitam', 178)"
   ]
  },
  {
   "cell_type": "code",
   "execution_count": 29,
   "metadata": {},
   "outputs": [],
   "source": [
    "budi = Manusia('biru', 180, 55)"
   ]
  },
  {
   "cell_type": "code",
   "execution_count": null,
   "metadata": {},
   "outputs": [],
   "source": []
  },
  {
   "cell_type": "code",
   "execution_count": 13,
   "metadata": {},
   "outputs": [
    {
     "name": "stdout",
     "output_type": "stream",
     "text": [
      "hitam 178 60\n"
     ]
    }
   ],
   "source": [
    "print(f'{akmal.warna_rambut} {akmal.tinggi} {akmal.berat}')"
   ]
  },
  {
   "cell_type": "code",
   "execution_count": 27,
   "metadata": {},
   "outputs": [
    {
     "name": "stdout",
     "output_type": "stream",
     "text": [
      "Rambutnya jadi warna putih\n"
     ]
    }
   ],
   "source": [
    "akmal.cat_rambutnya('putih')"
   ]
  },
  {
   "cell_type": "code",
   "execution_count": 20,
   "metadata": {},
   "outputs": [
    {
     "data": {
      "text/plain": [
       "'putih'"
      ]
     },
     "execution_count": 20,
     "metadata": {},
     "output_type": "execute_result"
    }
   ],
   "source": [
    "akmal.warna_rambut"
   ]
  },
  {
   "cell_type": "code",
   "execution_count": 26,
   "metadata": {},
   "outputs": [
    {
     "data": {
      "text/plain": [
       "0.0018937002903673778"
      ]
     },
     "execution_count": 26,
     "metadata": {},
     "output_type": "execute_result"
    }
   ],
   "source": [
    "akmal.BMI()"
   ]
  },
  {
   "cell_type": "markdown",
   "metadata": {},
   "source": [
    "# inheritance"
   ]
  },
  {
   "cell_type": "code",
   "execution_count": 33,
   "metadata": {},
   "outputs": [],
   "source": [
    "class Mahasiswa(Manusia):\n",
    "    def __init__(self, warna_rambut, tinggi, berat, univ):\n",
    "        super().__init__(warna_rambut, tinggi, berat)\n",
    "        self.universitas = univ\n",
    "\n",
    "    def pindah_univ(self, univ_baru):\n",
    "        self.universitas = univ_baru"
   ]
  },
  {
   "cell_type": "code",
   "execution_count": 34,
   "metadata": {},
   "outputs": [],
   "source": [
    "iqbaal = Mahasiswa('hitam', 150, 50, 'uny')"
   ]
  },
  {
   "cell_type": "code",
   "execution_count": 32,
   "metadata": {},
   "outputs": [
    {
     "data": {
      "text/plain": [
       "'uny'"
      ]
     },
     "execution_count": 32,
     "metadata": {},
     "output_type": "execute_result"
    }
   ],
   "source": [
    "iqbaal.universitas"
   ]
  },
  {
   "cell_type": "code",
   "execution_count": 35,
   "metadata": {},
   "outputs": [],
   "source": [
    "iqbaal.pindah_univ('unsu')"
   ]
  },
  {
   "cell_type": "code",
   "execution_count": 37,
   "metadata": {},
   "outputs": [
    {
     "data": {
      "text/plain": [
       "'unsu'"
      ]
     },
     "execution_count": 37,
     "metadata": {},
     "output_type": "execute_result"
    }
   ],
   "source": [
    "iqbaal.universitas"
   ]
  },
  {
   "cell_type": "markdown",
   "metadata": {},
   "source": [
    "# Pytorch NN Module"
   ]
  },
  {
   "cell_type": "code",
   "execution_count": 39,
   "metadata": {},
   "outputs": [],
   "source": [
    "import torch \n",
    "from torch import nn\n",
    "\n"
   ]
  },
  {
   "cell_type": "code",
   "execution_count": null,
   "metadata": {},
   "outputs": [
    {
     "data": {
      "text/plain": [
       "torch.nn.modules.linear.Linear"
      ]
     },
     "execution_count": 41,
     "metadata": {},
     "output_type": "execute_result"
    }
   ],
   "source": [
    "nn.Module"
   ]
  },
  {
   "cell_type": "code",
   "execution_count": 42,
   "metadata": {},
   "outputs": [],
   "source": [
    "class CustomNN(nn.Module):\n",
    "    def  __init__(self, input_size, output_size):\n",
    "        super().__init__()\n",
    "        self.fc = nn.Sequential(\n",
    "            nn.Linear(input_size, 16),\n",
    "            nn.ReLU(),\n",
    "            nn.Linear(16, 8),\n",
    "            nn.ReLU(),\n",
    "            nn.Linear(8, output_size),\n",
    "            nn.Sigmoid()\n",
    "        )\n",
    "    \n",
    "    def forward(self, x):\n",
    "        return self.fc(x)\n"
   ]
  },
  {
   "cell_type": "code",
   "execution_count": 43,
   "metadata": {},
   "outputs": [],
   "source": [
    "class FaceBiometric(nn.Module):\n",
    "    def  __init__(self, input_size, output_size):\n",
    "        super().__init__()\n",
    "        self.fc = nn.Sequential(\n",
    "            nn.Linear(input_size, 16),\n",
    "            nn.ReLU()\n",
    "        )\n",
    "        self.reg = nn.Linear(16, 4)\n",
    "        self.clf = nn.Sequential(\n",
    "            nn.Linear(16, 4),\n",
    "            nn.Sigmoid()\n",
    "        )\n",
    "    \n",
    "    def forward(self, x):\n",
    "        x = self.fc(x)\n",
    "        pred_reg = self.reg(x)\n",
    "        pred_clf = self.clf(x)\n",
    "\n",
    "        return pred_reg, pred_clf\n"
   ]
  },
  {
   "cell_type": "code",
   "execution_count": 44,
   "metadata": {},
   "outputs": [],
   "source": [
    "model = CustomNN(7, 1)"
   ]
  },
  {
   "cell_type": "code",
   "execution_count": 45,
   "metadata": {},
   "outputs": [],
   "source": [
    "contoh_data = torch.rand(100, 7)"
   ]
  },
  {
   "cell_type": "code",
   "execution_count": 47,
   "metadata": {},
   "outputs": [
    {
     "data": {
      "text/plain": [
       "tensor([[0.5021],\n",
       "        [0.5100],\n",
       "        [0.5134],\n",
       "        [0.5197],\n",
       "        [0.5172],\n",
       "        [0.5211],\n",
       "        [0.5096],\n",
       "        [0.5126],\n",
       "        [0.5108],\n",
       "        [0.5108],\n",
       "        [0.5168],\n",
       "        [0.5108],\n",
       "        [0.5092],\n",
       "        [0.5164],\n",
       "        [0.5219],\n",
       "        [0.5064],\n",
       "        [0.5103],\n",
       "        [0.5112],\n",
       "        [0.5112],\n",
       "        [0.5025],\n",
       "        [0.4988],\n",
       "        [0.5076],\n",
       "        [0.5217],\n",
       "        [0.5190],\n",
       "        [0.5091],\n",
       "        [0.5134],\n",
       "        [0.5187],\n",
       "        [0.5145],\n",
       "        [0.5199],\n",
       "        [0.5095],\n",
       "        [0.5136],\n",
       "        [0.5088],\n",
       "        [0.5174],\n",
       "        [0.5085],\n",
       "        [0.5193],\n",
       "        [0.5166],\n",
       "        [0.5135],\n",
       "        [0.5185],\n",
       "        [0.5157],\n",
       "        [0.5169],\n",
       "        [0.5056],\n",
       "        [0.5122],\n",
       "        [0.5206],\n",
       "        [0.5096],\n",
       "        [0.5043],\n",
       "        [0.5143],\n",
       "        [0.5238],\n",
       "        [0.5131],\n",
       "        [0.5160],\n",
       "        [0.5085],\n",
       "        [0.5185],\n",
       "        [0.5085],\n",
       "        [0.5052],\n",
       "        [0.5193],\n",
       "        [0.5092],\n",
       "        [0.5120],\n",
       "        [0.4996],\n",
       "        [0.5106],\n",
       "        [0.5256],\n",
       "        [0.5178],\n",
       "        [0.5172],\n",
       "        [0.5116],\n",
       "        [0.5082],\n",
       "        [0.5183],\n",
       "        [0.5160],\n",
       "        [0.5062],\n",
       "        [0.5121],\n",
       "        [0.5081],\n",
       "        [0.5225],\n",
       "        [0.5225],\n",
       "        [0.5066],\n",
       "        [0.5222],\n",
       "        [0.5107],\n",
       "        [0.5114],\n",
       "        [0.5109],\n",
       "        [0.5143],\n",
       "        [0.5105],\n",
       "        [0.5042],\n",
       "        [0.5099],\n",
       "        [0.5180],\n",
       "        [0.5100],\n",
       "        [0.5162],\n",
       "        [0.5161],\n",
       "        [0.5103],\n",
       "        [0.5210],\n",
       "        [0.5099],\n",
       "        [0.5131],\n",
       "        [0.5186],\n",
       "        [0.5088],\n",
       "        [0.5192],\n",
       "        [0.5191],\n",
       "        [0.5150],\n",
       "        [0.5166],\n",
       "        [0.5173],\n",
       "        [0.5177],\n",
       "        [0.5099],\n",
       "        [0.5111],\n",
       "        [0.5136],\n",
       "        [0.5153],\n",
       "        [0.5126]], grad_fn=<SigmoidBackward0>)"
      ]
     },
     "execution_count": 47,
     "metadata": {},
     "output_type": "execute_result"
    }
   ],
   "source": [
    "output = model(contoh_data)\n",
    "output"
   ]
  },
  {
   "cell_type": "code",
   "execution_count": null,
   "metadata": {},
   "outputs": [],
   "source": []
  }
 ],
 "metadata": {
  "kernelspec": {
   "display_name": "Python 3",
   "language": "python",
   "name": "python3"
  },
  "language_info": {
   "codemirror_mode": {
    "name": "ipython",
    "version": 3
   },
   "file_extension": ".py",
   "mimetype": "text/x-python",
   "name": "python",
   "nbconvert_exporter": "python",
   "pygments_lexer": "ipython3",
   "version": "3.12.3"
  }
 },
 "nbformat": 4,
 "nbformat_minor": 2
}
